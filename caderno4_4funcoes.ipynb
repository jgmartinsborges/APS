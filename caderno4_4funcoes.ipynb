{
  "nbformat": 4,
  "nbformat_minor": 0,
  "metadata": {
    "colab": {
      "provenance": [],
      "include_colab_link": true
    },
    "kernelspec": {
      "name": "python3",
      "display_name": "Python 3"
    },
    "language_info": {
      "name": "python"
    }
  },
  "cells": [
    {
      "cell_type": "markdown",
      "metadata": {
        "id": "view-in-github",
        "colab_type": "text"
      },
      "source": [
        "<a href=\"https://colab.research.google.com/github/jgmartinsborges/APS/blob/main/caderno4_4funcoes.ipynb\" target=\"_parent\"><img src=\"https://colab.research.google.com/assets/colab-badge.svg\" alt=\"Open In Colab\"/></a>"
      ]
    },
    {
      "cell_type": "markdown",
      "source": [
        "## Exercício 1\n",
        "\n",
        "Em um documento HTML, a formatação do texto é determinada por elementos denominados _tags_. Por exemplo, a _tag_ ``i`` determinada formatação em _itálico_ e a tag ``p`` delimita um parágrafo. A sequência de caracteres ``<nome>`` inicia uma _tag_ ``nome`` e a sequência ``</nome>`` encerra a mesma _tag_. Por exemplo:\n",
        "- Se quisermos mostrar a palavra ``\"hoje\"`` em itálico, usamos a sequência ``<i>hoje</i>``.\n",
        "- Para mostrar a frase ``\"Cardápio do dia:\"`` em um parágrafo, usamos a sequência ``<p>Cardápio do dia:</p>``.\n",
        "\n",
        "Crie uma função ``formata_tags(elem, tag)`` que recebe os _strings_ ``elem`` e ``tag`` e devolve o elemento formatado (como string), isto é, a função devolve a sequência ``\"<tag>elem</tag>\"``. Por exemplo, ``formata_tags(\"hoje\", \"i\")`` devolve o _string_ ``\"<i>hoje</i>\"``"
      ],
      "metadata": {
        "id": "Ch3EpYPe66b6"
      }
    },
    {
      "cell_type": "code",
      "execution_count": 14,
      "metadata": {
        "id": "jFxDHSY561CI",
        "colab": {
          "base_uri": "https://localhost:8080/"
        },
        "outputId": "08da7c20-fbff-452d-a182-2ac1a495f866"
      },
      "outputs": [
        {
          "output_type": "stream",
          "name": "stdout",
          "text": [
            "<i>Aula de programação na sala 409-2</i>\n"
          ]
        }
      ],
      "source": [
        "#Exercício 1\n",
        "def formata_tags(elem, tag):\n",
        "    return f\"<{tag}>{elem}</{tag}>\"\n",
        "\n",
        "#Exemplo\n",
        "resultado = formata_tags(\"Aula de programação na sala 409-2\",\"i\")\n",
        "print(resultado)"
      ]
    },
    {
      "cell_type": "markdown",
      "source": [
        "## Exercício 2\n",
        "\n",
        "Crie uma função ``arredonda10(num)`` que recebe um número inteiro,  arredonda o valor para um múltiplo de 10 e devolve o valor (inteiro) resultante. Caso o dígito final (unidade) de ``num`` esteja no intervalo [6, 9] o valor deve ser arredondado para cima. Caso o dígito final de ``num`` esteja no intervalo [1, 4] o valor deve ser arredondado para baixo. Caso o dígito final de ``num`` seja 5, você deve consultar o segundo dígito (dezena). Se o dígito da dezena for par, o valor deve ser arredondado para baixo. Caso contrário, o valor deve ser arredondado para cima. Exemplos:\n",
        "- 23 deve ser arredondado para baixo (20).\n",
        "- 46 deve ser arredondado para cima (50).\n",
        "- 35 deve ser arredondado para cima (40).\n",
        "- 45 deve ser arredondado para baixo (40)."
      ],
      "metadata": {
        "id": "icJDQDrF98e9"
      }
    },
    {
      "cell_type": "code",
      "source": [
        "#Exercício 2\n",
        "def arredonda10(num):\n",
        "    unidade = num % 10\n",
        "    dezena = (num // 10) % 10\n",
        "\n",
        "    a = {6,7,8,9}\n",
        "    b = {1,2,3,4}\n",
        "\n",
        "    if unidade in a:\n",
        "      return (dezena + 1) * 10\n",
        "    elif unidade in b:\n",
        "      return dezena * 10\n",
        "    else:\n",
        "      if dezena % 2 == 0:\n",
        "        return dezena * 10\n",
        "      else:\n",
        "        return (dezena + 1) * 10\n",
        "\n",
        "print(arredonda10(23))\n",
        "print(arredonda10(46))\n",
        "print(arredonda10(35))\n",
        "print(arredonda10(45))\n",
        "print(arredonda10(12))\n",
        "print(arredonda10(15))"
      ],
      "metadata": {
        "id": "1fdWpl8hAjaP",
        "colab": {
          "base_uri": "https://localhost:8080/"
        },
        "outputId": "bf5cb1b5-97b5-4d4a-cec9-33440f70d689"
      },
      "execution_count": 13,
      "outputs": [
        {
          "output_type": "stream",
          "name": "stdout",
          "text": [
            "20\n",
            "50\n",
            "40\n",
            "40\n",
            "10\n",
            "20\n"
          ]
        }
      ]
    }
  ]
}